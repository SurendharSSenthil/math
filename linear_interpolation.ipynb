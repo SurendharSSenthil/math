{
  "nbformat": 4,
  "nbformat_minor": 0,
  "metadata": {
    "colab": {
      "provenance": [],
      "authorship_tag": "ABX9TyPfQTDZb9y27rM2j7SzmVE+",
      "include_colab_link": true
    },
    "kernelspec": {
      "name": "python3",
      "display_name": "Python 3"
    },
    "language_info": {
      "name": "python"
    }
  },
  "cells": [
    {
      "cell_type": "markdown",
      "metadata": {
        "id": "view-in-github",
        "colab_type": "text"
      },
      "source": [
        "<a href=\"https://colab.research.google.com/github/SurendharSSenthil/math/blob/main/linear_interpolation.ipynb\" target=\"_parent\"><img src=\"https://colab.research.google.com/assets/colab-badge.svg\" alt=\"Open In Colab\"/></a>"
      ]
    },
    {
      "cell_type": "code",
      "execution_count": 8,
      "metadata": {
        "id": "1b7i6u8aAsMU"
      },
      "outputs": [],
      "source": [
        "import math"
      ]
    },
    {
      "cell_type": "code",
      "source": [
        "# I declare the lookup tables for the angles (in radians) and their sine values for the first quadrant (0° to 90°)\n",
        "lookup_angles = [0, math.pi / 6, math.pi / 4, math.pi / 3, math.pi / 2]\n",
        "lookup_sin = [0, 0.5, math.sqrt(2) / 2, math.sqrt(3) / 2, 1]\n"
      ],
      "metadata": {
        "id": "ENilvExsy0XS"
      },
      "execution_count": 9,
      "outputs": []
    },
    {
      "cell_type": "code",
      "source": [
        "\n",
        "# I define the function for linear interpolation between two known points\n",
        "def linear_interpolation(x, x0, y0, x1, y1):\n",
        "    return y0 + (y1 - y0) * ((x - x0) / (x1 - x0))\n"
      ],
      "metadata": {
        "id": "cUH5MhK5CUED"
      },
      "execution_count": 10,
      "outputs": []
    },
    {
      "cell_type": "code",
      "source": [
        "\n",
        "# I define the function to calculate sine for any given angle in radians\n",
        "def calculate_sin(x):\n",
        "\n",
        "    x = x % (2 * math.pi)  # this ensures that the input is within the range [0, 2π]\n",
        "\n",
        "    # Use symmetry properties to convert the input angle into the range [0, π/2]\n",
        "    if x > math.pi and x <= 2 * math.pi:  # Handling angles between π and 2π\n",
        "        x = 2 * math.pi - x  # using the symmetry sin(2π - x) = -sin(x)\n",
        "    elif x > math.pi / 2 and x <= math.pi:  # Handling angles between π/2 and π\n",
        "        x = math.pi - x  # using the symmetry sin(π - x) = sin(x)\n",
        "\n",
        "    # Finding the closest angles in the lookup table for sine\n",
        "    for i in range(len(lookup_angles) - 1):\n",
        "        if lookup_angles[i] <= x < lookup_angles[i + 1]:  # if the input radian is found in the range\n",
        "            x0, y0 = lookup_angles[i], lookup_sin[i]\n",
        "            x1, y1 = lookup_angles[i + 1], lookup_sin[i + 1]\n",
        "            sin_x = linear_interpolation(x, x0, y0, x1, y1)\n",
        "            break\n",
        "    else:\n",
        "        sin_x = lookup_sin[-1] if x == lookup_angles[-1] else None\n",
        "\n",
        "    return sin_x\n"
      ],
      "metadata": {
        "id": "UrwINFySCluj"
      },
      "execution_count": 12,
      "outputs": []
    },
    {
      "cell_type": "code",
      "source": [
        "# Example\n",
        "x = float(input(\"Enter a number in radians: \"))\n",
        "sin_x = calculate_sin(x)\n",
        "print(f\"Sin({x}) = {sin_x}\")\n"
      ],
      "metadata": {
        "colab": {
          "base_uri": "https://localhost:8080/"
        },
        "id": "kFAAoTpZF0dp",
        "outputId": "1bcdd2e3-c935-4849-b40a-e5a58cad8762"
      },
      "execution_count": 13,
      "outputs": [
        {
          "output_type": "stream",
          "name": "stdout",
          "text": [
            "Enter a number in radians: 1.1\n",
            "Sin(1.1) = 0.8795361052744206\n"
          ]
        }
      ]
    }
  ]
}