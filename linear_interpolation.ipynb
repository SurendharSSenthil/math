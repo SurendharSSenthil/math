{
  "nbformat": 4,
  "nbformat_minor": 0,
  "metadata": {
    "colab": {
      "provenance": [],
      "authorship_tag": "ABX9TyMbFn2+pG43hIvlJocXUIaZ",
      "include_colab_link": true
    },
    "kernelspec": {
      "name": "python3",
      "display_name": "Python 3"
    },
    "language_info": {
      "name": "python"
    }
  },
  "cells": [
    {
      "cell_type": "markdown",
      "metadata": {
        "id": "view-in-github",
        "colab_type": "text"
      },
      "source": [
        "<a href=\"https://colab.research.google.com/github/SurendharSSenthil/math/blob/main/linear_interpolation.ipynb\" target=\"_parent\"><img src=\"https://colab.research.google.com/assets/colab-badge.svg\" alt=\"Open In Colab\"/></a>"
      ]
    },
    {
      "cell_type": "code",
      "execution_count": 3,
      "metadata": {
        "id": "1b7i6u8aAsMU"
      },
      "outputs": [],
      "source": [
        "import math"
      ]
    },
    {
      "cell_type": "code",
      "source": [
        "\n",
        "# I declare the lookup tables for the angles(in radian) and the corresponding sine and cosine values in separate arrays\n",
        "\n",
        "lookup_angles = [0, math.pi / 6, math.pi / 4, math.pi / 3, math.pi / 2]\n",
        "lookup_sin = [0, 0.5, math.sqrt(2) / 2, math.sqrt(3) / 2, 1]\n",
        "lookup_cos = [1, math.sqrt(3) / 2, math.sqrt(2) / 2, 0.5, 0]\n",
        "\n"
      ],
      "metadata": {
        "id": "cUH5MhK5CUED"
      },
      "execution_count": 5,
      "outputs": []
    },
    {
      "cell_type": "code",
      "source": [
        "# I define the function for linear interpolation search (I studied in my Algorithms paper)\n",
        "# inputs are two known points and the radian for which we have to find the value using linear interpolation\n",
        "\n",
        "\n",
        "def linear_interpolation(x, x0, y0, x1, y1):\n",
        "    return y0 + (y1 - y0) * ((x - x0) / (x1 - x0))\n",
        "\n"
      ],
      "metadata": {
        "id": "UrwINFySCluj"
      },
      "execution_count": 6,
      "outputs": []
    },
    {
      "cell_type": "code",
      "source": [
        "\n",
        "def calculate_sin_cos_tan(x):\n",
        "\n",
        "    x = x % (2 * math.pi)  # this statement makes the input being in the range between 0 and 2*pi\n",
        "\n",
        "    # Finding the closest angles in the lookup table\n",
        "    for i in range(len(lookup_angles) - 1):\n",
        "        if lookup_angles[i] <= x < lookup_angles[i + 1]:  # if the input radian is found in the range\n",
        "            x0, y0 = lookup_angles[i], lookup_sin[i]\n",
        "            x1, y1 = lookup_angles[i + 1], lookup_sin[i + 1]\n",
        "            sin_x = linear_interpolation(x, x0, y0, x1, y1)\n",
        "            break\n",
        "    else:\n",
        "        sin_x = lookup_sin[-1] if x == lookup_angles[-1] else None\n",
        "\n",
        "    # Now calculate cos using the same approach\n",
        "    for i in range(len(lookup_angles) - 1):\n",
        "        if lookup_angles[i] <= x < lookup_angles[i + 1]:\n",
        "            x0, y0 = lookup_angles[i], lookup_cos[i]\n",
        "            x1, y1 = lookup_angles[i + 1], lookup_cos[i + 1]\n",
        "            cos_x = linear_interpolation(x, x0, y0, x1, y1)\n",
        "            break\n",
        "    else:\n",
        "        cos_x = lookup_cos[-1] if x == lookup_angles[-1] else None\n",
        "\n",
        "    # Calculate the tan value using sin/cos\n",
        "    if cos_x != 0:\n",
        "        tan_x = sin_x / cos_x\n",
        "    else:\n",
        "        tan_x = None  # to handle division by zero case\n",
        "\n",
        "    return sin_x, cos_x, tan_x\n"
      ],
      "metadata": {
        "id": "tnQVBbh7Ez83"
      },
      "execution_count": 7,
      "outputs": []
    },
    {
      "cell_type": "code",
      "source": [
        "# Example\n",
        "\n",
        "x = float(input(\"Enter a number in radians: \"))\n",
        "sin_x, cos_x, tan_x = calculate_sin_cos_tan(x)\n",
        "print(f\"Sin({x}) = {sin_x}\")\n",
        "print(f\"Cos({x}) = {cos_x}\")\n",
        "print(f\"Tan({x}) = {tan_x}\" if tan_x is not None else \"Tan is undefined at this angle.\")\n"
      ],
      "metadata": {
        "colab": {
          "base_uri": "https://localhost:8080/"
        },
        "id": "kFAAoTpZF0dp",
        "outputId": "90305a91-daa9-4d63-bf32-8259a0c616e8"
      },
      "execution_count": 9,
      "outputs": [
        {
          "output_type": "stream",
          "name": "stdout",
          "text": [
            "Enter a number in radians: 1.57\n",
            "Sin(1.57) = 0.9997962417679835\n",
            "Cos(1.57) = 0.0007604360743458383\n",
            "Tan(1.57) = 1314.7669810747127\n"
          ]
        }
      ]
    }
  ]
}