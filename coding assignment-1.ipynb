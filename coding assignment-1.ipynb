{
  "nbformat": 4,
  "nbformat_minor": 0,
  "metadata": {
    "colab": {
      "provenance": [],
      "toc_visible": true
    },
    "kernelspec": {
      "name": "python3",
      "display_name": "Python 3"
    },
    "language_info": {
      "name": "python"
    }
  },
  "cells": [
    {
      "cell_type": "code",
      "execution_count": 16,
      "metadata": {
        "colab": {
          "base_uri": "https://localhost:8080/"
        },
        "id": "kDpZX6paaYhW",
        "outputId": "9021f782-dd18-4496-e8cf-5bb8211df9b8"
      },
      "outputs": [
        {
          "output_type": "stream",
          "name": "stdout",
          "text": [
            "Reimann Sum  (with dx = 0.00001):  0.7854031541211319\n",
            "Actual Area of the quadrant :  0.7853981633974483\n",
            "Difference in area: 0.0000049907\n"
          ]
        }
      ],
      "source": [
        "# I divide the area into equal vertical rectangles each having width of 0.00001 units and height of y(x)\n",
        "\n",
        "import math\n",
        "# defining the function to calculate the value of y\n",
        "def y(x):\n",
        "  return math.sqrt(1 - x**2)\n",
        "\n",
        "dx = 0.00001 # width\n",
        "a, b = 0, 1 # interval\n",
        "reimann_sum = 0 # final area initialised with 0\n",
        "\n",
        "#starting from a (i.e., 0), I add the area of the rectangle to reimann_sum variable. Then i increment the value of a by dx. I stop the iteration when a reaches b.\n",
        "while a < b:\n",
        "  reimann_sum += y(a) * dx\n",
        "  a += dx\n",
        "\n",
        "print(\"Reimann Sum  (with dx = 0.00001): \",reimann_sum)\n",
        "print(\"Actual Area of the quadrant : \",math.pi/4)\n",
        "print(f\"Difference in area: {abs(reimann_sum-math.pi/4):.10f}\")"
      ]
    },
    {
      "cell_type": "code",
      "source": [
        "# import the integrate(for integration), symbols(for declaring variables/symbols), sqrt(for finding the square root)\n",
        "from sympy import integrate, symbols, sqrt, simplify\n",
        "# declare the symbol/variable\n",
        "x = symbols('x')\n",
        "# define the expression\n",
        "expression = sqrt(1 - x**2)\n",
        "# calculate the area using integration - from 0 to 1\n",
        "result = integrate(expression, (x, 0, 1))\n",
        "print(\"Area calculation using integral : \",result, \" (or) \", result.evalf())"
      ],
      "metadata": {
        "colab": {
          "base_uri": "https://localhost:8080/"
        },
        "id": "w2h3kBCffq6W",
        "outputId": "df6a44cf-5825-4b39-c5bc-25d65a0da0d6"
      },
      "execution_count": 30,
      "outputs": [
        {
          "output_type": "stream",
          "name": "stdout",
          "text": [
            "Area calculation using integral :  pi/4  (or)  0.785398163397448\n"
          ]
        }
      ]
    }
  ]
}